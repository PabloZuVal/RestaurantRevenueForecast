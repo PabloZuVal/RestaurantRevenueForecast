import pandas as pd
import numpy as np

import matplotlib.pyplot as plt
import seaborn as sns

import scipy.stats as stats


# Para mostrar todas las columnas del notebook
pd.pandas.set_option("display.max_columns",None)


#Load dataset
data = pd.read_csv('./Input/train.csv')

print(data.shape)

data.head()





data.drop('Id',axis=1, inplace=True)

data.shape


data['revenue'].hist(bins=50, density=True)
#plt.ylabel("")





plt.figure(figsize=(12, 6))
sns.histplot(data=data, x='revenue', kde=True, bins=30)
plt.title('Distribución de Ingresos de Restaurantes')
plt.xlabel('Ingresos')
plt.ylabel('Frecuencia')

# Obtener los límites actuales del eje x
x_min, x_max = plt.xlim()

# Crear nuevos ticks
ticks = np.linspace(x_min, x_max, 10)

# Establecer los nuevos ticks
plt.xticks(ticks)

# Ajustar las etiquetas de los ticks
plt.gca().set_xticklabels([f'{x/1e6:.1f}M' for x in ticks])

plt.show()





print(data.duplicated().sum())


data.isnull().sum().sort_values(ascending=False)


data.isnull().sum().sort_values(ascending=False)/len(data)*100





cat_vars = [var for var in data.columns if data[var].dtype == '0']

# cat_vars = cat_vars + ['MSSubClass']
# print(cat_vars)
len(cat_vars)


data[cat_vars] = data[cat_vars].astype('0')


data.dtypes


int_columns = data.columns[(data.columns.str.startswith('P')) & (data.dtypes == 'int64')]
print(int_columns)


for col in int_columns:
    data[col] = data[col].astype('float64')


print("\nTipos de datos después de la conversión:")
print(data.dtypes)


data.head()


data['revenue'].hist(bins=50, density=True)



